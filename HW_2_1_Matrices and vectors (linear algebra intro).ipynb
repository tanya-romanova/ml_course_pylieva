{
  "nbformat": 4,
  "nbformat_minor": 0,
  "metadata": {
    "colab": {
      "provenance": [],
      "include_colab_link": true
    },
    "kernelspec": {
      "name": "python3",
      "display_name": "Python 3"
    },
    "language_info": {
      "name": "python"
    }
  },
  "cells": [
    {
      "cell_type": "markdown",
      "metadata": {
        "id": "view-in-github",
        "colab_type": "text"
      },
      "source": [
        "<a href=\"https://colab.research.google.com/github/tanya-romanova/ml_course_pylieva/blob/main/HW_2_1_Matrices%20and%20vectors%20(linear%20algebra%20intro).ipynb\" target=\"_parent\"><img src=\"https://colab.research.google.com/assets/colab-badge.svg\" alt=\"Open In Colab\"/></a>"
      ]
    },
    {
      "cell_type": "markdown",
      "source": [
        "### Завдання 1: Створення матриць та векторів\n",
        "1. Створіть `numpy` вектор `vector` розмірністю 10 з випадковими дійсними значеннями в діапазоні від 0 до 1. Можна скористатись двома альтернативними варіантами:\n",
        "  1. Генерація випадкових чисел з модулем [`random.uniform`](https://docs.python.org/3/library/random.html).\n",
        "  2. Створення вектора з допомогою метода `numpy` [np.random.rand](https://numpy.org/doc/stable/reference/random/generated/numpy.random.rand.html)\n",
        "\n",
        "2. Створіть матрицю `matrix` типу `numpy.array` розмірності 3x3 з наступними значеннями\n",
        "\n",
        "  $$\n",
        "  matrix = \\begin{bmatrix}\n",
        "  11 & 14 & 17 \\\\\n",
        "  20 & 23 & 26 \\\\\n",
        "  29 & 32 & 35\n",
        "  \\end{bmatrix}\n",
        "  $$\n",
        "\n",
        "  будь-яким відомими Вам способом.\n",
        "\n",
        "Виведіть на екран вектор і матрицю, а також їх розміри.\n"
      ],
      "metadata": {
        "id": "efug1V4CM0lT"
      }
    },
    {
      "cell_type": "code",
      "source": [
        "import numpy as np\n",
        "import random as rnd\n",
        "\n",
        "# v_rand = np.array([rnd.uniform(0, 1) for i in range(10)])\n",
        "vector = np.random.rand(10)\n",
        "\n",
        "print(vector, vector.shape, sep='\\n')\n",
        "print()\n",
        "\n",
        "matrix = np.array([[11, 14, 17], [20, 23, 26], [29, 32, 35]])\n",
        "print(matrix, matrix.shape, sep='\\n')"
      ],
      "metadata": {
        "id": "jxA_lG2_VIMe",
        "colab": {
          "base_uri": "https://localhost:8080/"
        },
        "outputId": "9534aabf-b2f9-4575-c162-a3325638ec36"
      },
      "execution_count": 30,
      "outputs": [
        {
          "output_type": "stream",
          "name": "stdout",
          "text": [
            "[0.22840882 0.1994599  0.79235136 0.36702818 0.73083759 0.26101668\n",
            " 0.01419252 0.36726965 0.51543044 0.10113632]\n",
            "(10,)\n",
            "\n",
            "[[11 14 17]\n",
            " [20 23 26]\n",
            " [29 32 35]]\n",
            "(3, 3)\n"
          ]
        }
      ]
    },
    {
      "cell_type": "markdown",
      "source": [
        "\n",
        "### Завдання 2: Операції над векторами та матрицями\n",
        "Виконайте кожну з зазначених операцій над зазначеними оʼєктами і виведіть результат на екран:\n",
        "1. Додайте до кожного значення вектора `vector` число 10 і округліть кожне значення до 2 знаків після коми без використання циклів.\n",
        "2. Помножте кожен елемент матриці з першого завдання на 2 без використання циклів.\n",
        "3. Створіть новий вектор, який містить квадрат кожного `vector` без циклів.\n"
      ],
      "metadata": {
        "id": "TSJ1P4OuOVe2"
      }
    },
    {
      "cell_type": "code",
      "source": [
        "vector = np.round(vector + 10, 2)\n",
        "print(vector)\n",
        "print()\n",
        "\n",
        "matrix = matrix * 2\n",
        "print(matrix)\n",
        "print()\n",
        "\n",
        "vector1 = vector**2\n",
        "print(vector1)"
      ],
      "metadata": {
        "id": "nAAojtyUVJXN",
        "colab": {
          "base_uri": "https://localhost:8080/"
        },
        "outputId": "b07d4869-509b-4651-f7c6-c8b78a87befc"
      },
      "execution_count": 32,
      "outputs": [
        {
          "output_type": "stream",
          "name": "stdout",
          "text": [
            "[20.23 20.2  20.79 20.37 20.73 20.26 20.01 20.37 20.52 20.1 ]\n",
            "\n",
            "[[ 44  56  68]\n",
            " [ 80  92 104]\n",
            " [116 128 140]]\n",
            "\n",
            "[409.2529 408.04   432.2241 414.9369 429.7329 410.4676 400.4001 414.9369\n",
            " 421.0704 404.01  ]\n"
          ]
        }
      ]
    },
    {
      "cell_type": "markdown",
      "source": [
        "\n",
        "### Завдання 3: Множення матриць\n",
        "1. Задані дві матриці `A` і `B`розмірностями 3x2 та 2х3. Виконайте їхнє множення, щоб отримати матрицю 2x2. Виведіть результуючу матрицю `result_matrix` на екран.\n",
        "\n",
        "2. Заданий вектор `C` розмірністю 2х1. Подумайте спочатку, яку розмірність Ви отрмаєте, коли домножите `result_matrix` на вектор `C` і який результат буде. А потім виконайте множення і виведіть результат на екран.\n",
        "\n",
        "3. Задана матриця `D` розмірністю 2х2. Подумайте спочатку, яку розмірність Ви отрмаєте, коли домножите `result_matrix` на матрицю `D` і який результат буде. А потім виконайте множення і виведіть результат на екран."
      ],
      "metadata": {
        "id": "u6RvWVfhPy-k"
      }
    },
    {
      "cell_type": "code",
      "source": [
        "A = np.array(\n",
        "    [[0.18, 0.53],\n",
        "     [0.75, 0.47],\n",
        "     [0.35, 0.21]])\n",
        "\n",
        "B = np.array(\n",
        "    [[0.17, 0.58, 0.75],\n",
        "     [0.38, 0.11, 0.15]])\n",
        "\n",
        "C = np.array([[0], [1]])\n",
        "\n",
        "D = np.array([[0,1], [1,0]])\n",
        "\n",
        "display(A, B, C, D)"
      ],
      "metadata": {
        "id": "RwXfPzlbSJ44",
        "colab": {
          "base_uri": "https://localhost:8080/",
          "height": 178
        },
        "outputId": "4c8e61ae-0f09-4dc3-9a27-ea7b7e9dca05"
      },
      "execution_count": 44,
      "outputs": [
        {
          "output_type": "display_data",
          "data": {
            "text/plain": [
              "array([[0.18, 0.53],\n",
              "       [0.75, 0.47],\n",
              "       [0.35, 0.21]])"
            ]
          },
          "metadata": {}
        },
        {
          "output_type": "display_data",
          "data": {
            "text/plain": [
              "array([[0.17, 0.58, 0.75],\n",
              "       [0.38, 0.11, 0.15]])"
            ]
          },
          "metadata": {}
        },
        {
          "output_type": "display_data",
          "data": {
            "text/plain": [
              "array([[0],\n",
              "       [1]])"
            ]
          },
          "metadata": {}
        },
        {
          "output_type": "display_data",
          "data": {
            "text/plain": [
              "array([[0, 1],\n",
              "       [1, 0]])"
            ]
          },
          "metadata": {}
        }
      ]
    },
    {
      "cell_type": "code",
      "source": [
        "result_matrix = np.dot(B, A)\n",
        "print(result_matrix)\n",
        "print()\n",
        "\n",
        "result_matrix1 = np.dot(result_matrix, C)      # extract 2nd col\n",
        "print(result_matrix1)\n",
        "print()\n",
        "\n",
        "result_matrix2 = np.dot(D, result_matrix)      # swap rows\n",
        "print(result_matrix2)\n"
      ],
      "metadata": {
        "id": "z7-boTbhVKkj",
        "colab": {
          "base_uri": "https://localhost:8080/"
        },
        "outputId": "5cef5d1d-3c85-42f4-c91d-39aa05989b67"
      },
      "execution_count": 45,
      "outputs": [
        {
          "output_type": "stream",
          "name": "stdout",
          "text": [
            "[[0.7281 0.5202]\n",
            " [0.2034 0.2846]]\n",
            "\n",
            "[[0.5202]\n",
            " [0.2846]]\n",
            "\n",
            "[[0.2034 0.2846]\n",
            " [0.7281 0.5202]]\n"
          ]
        }
      ]
    },
    {
      "cell_type": "markdown",
      "source": [
        "\n",
        "### Завдання 4: Транспонування матриць\n",
        "1. Транспонуйте `result_matrix`.\n",
        "2. Зробіть транспонування вектора `vector` і виведіть форму нової структури. Чи бачите ви зміну?\n",
        "3. Використайте операцію `numpy.expand_dims` над вектором `vector` з аргументом axis=1. Запишіть отриманий результат в змінну `column_vector` і виведіть на екран. Порівняйте з `vector`.\n",
        "4. Зробіть транспонування `column_vector`, виведіть результат на екран разом з розмірностями отриманої структури.\n",
        "\n",
        "\n"
      ],
      "metadata": {
        "id": "wohp0_cxSGpl"
      }
    },
    {
      "cell_type": "code",
      "source": [
        "print(result_matrix.T)\n",
        "print()\n",
        "\n",
        "print(vector)\n",
        "print(vector.shape)\n",
        "print()\n",
        "print(vector.T)   # зміни не бачу!\n",
        "print(vector.T.shape)\n",
        "print()\n",
        "\n",
        "column_vector = np.expand_dims(vector, axis=1)\n",
        "print(column_vector)    # транспонований порівняно з vector\n",
        "print(column_vector.shape)\n",
        "print()\n",
        "print(column_vector.T)  # транспонований порівняно з column_vector\n",
        "print(column_vector.T.shape)"
      ],
      "metadata": {
        "id": "4hFcq1baVLii",
        "colab": {
          "base_uri": "https://localhost:8080/"
        },
        "outputId": "f287beb1-1cba-476b-b9a0-5a208e157f32"
      },
      "execution_count": 56,
      "outputs": [
        {
          "output_type": "stream",
          "name": "stdout",
          "text": [
            "[[0.7281 0.2034]\n",
            " [0.5202 0.2846]]\n",
            "\n",
            "[20.23 20.2  20.79 20.37 20.73 20.26 20.01 20.37 20.52 20.1 ]\n",
            "(10,)\n",
            "\n",
            "[20.23 20.2  20.79 20.37 20.73 20.26 20.01 20.37 20.52 20.1 ]\n",
            "(10,)\n",
            "\n",
            "[[20.23]\n",
            " [20.2 ]\n",
            " [20.79]\n",
            " [20.37]\n",
            " [20.73]\n",
            " [20.26]\n",
            " [20.01]\n",
            " [20.37]\n",
            " [20.52]\n",
            " [20.1 ]]\n",
            "(10, 1)\n",
            "\n",
            "[[20.23 20.2  20.79 20.37 20.73 20.26 20.01 20.37 20.52 20.1 ]]\n",
            "(1, 10)\n"
          ]
        }
      ]
    }
  ]
}